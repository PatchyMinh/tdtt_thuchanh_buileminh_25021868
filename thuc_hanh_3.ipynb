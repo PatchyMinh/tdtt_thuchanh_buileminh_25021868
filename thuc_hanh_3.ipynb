{
 "cells": [
  {
   "cell_type": "markdown",
   "id": "b659c7ed",
   "metadata": {},
   "source": [
    "Bài tập về nhà Tuần 3"
   ]
  },
  {
   "cell_type": "code",
   "execution_count": null,
   "id": "75ba43e3",
   "metadata": {},
   "outputs": [
    {
     "name": "stdout",
     "output_type": "stream",
     "text": [
      "654321\n"
     ]
    }
   ],
   "source": [
    "# H3.1 - \"Xâu ngược\"\n",
    "n = int(input(\"Nhập một số nguyên n: \"))\n",
    "digits = [str(i) for i in str(n)] # tách số nguyên n thành danh sách kí tự\n",
    "reverseNumber = \"\"\n",
    "length = len(str(n))\n",
    "for i in range(1, length + 1):\n",
    "    reverseNumber += digits[-i] # ghép từng kí tự vào trong số mới (khởi tạo bằng xâu rỗng), chạy từ kí tự cuối lên kí tự đầu tiên\n",
    "print(reverseNumber)"
   ]
  },
  {
   "cell_type": "code",
   "execution_count": null,
   "id": "23276777",
   "metadata": {},
   "outputs": [],
   "source": [
    "# H3.2 - \"Hoán đổi bitwise\"\n",
    "a, b = map(int, input(\"Nhập hai số nguyên a và b: \").split())\n",
    "a = a ^ b\n",
    "b = a ^ b\n",
    "a = a ^ b\n",
    "print(a, b)\n"
   ]
  },
  {
   "cell_type": "code",
   "execution_count": null,
   "id": "34ee52f3",
   "metadata": {},
   "outputs": [
    {
     "name": "stdout",
     "output_type": "stream",
     "text": [
      "False\n"
     ]
    }
   ],
   "source": [
    "# H3.3 - \"Lũy thừa của 2\"\n",
    "integer = int(input(\"Nhập số nguyên: \"))\n",
    "if integer & (integer - 1) == 0:\n",
    "    print(\"True\")\n",
    "else:\n",
    "    print(\"False\")"
   ]
  },
  {
   "cell_type": "code",
   "execution_count": null,
   "id": "594a67e8",
   "metadata": {},
   "outputs": [
    {
     "name": "stdout",
     "output_type": "stream",
     "text": [
      "1221\n"
     ]
    }
   ],
   "source": [
    "# H3.4 - \"Chia tròn xuống\"\n",
    "import math\n",
    "m, n = map(int, input(\"Nhập hai số nguyên m, n để thực hiện phép chia tròn xuống m cho n, hai số cách nhau bằng một dấu cách: \").split())\n",
    "quotient = m/n\n",
    "print(math.trunc(quotient))"
   ]
  },
  {
   "cell_type": "code",
   "execution_count": null,
   "id": "b86ed3eb",
   "metadata": {},
   "outputs": [
    {
     "name": "stdout",
     "output_type": "stream",
     "text": [
      "1221\n"
     ]
    }
   ],
   "source": [
    "# H3.5 - \"Chia tròn lên\"\n",
    "m, n = map(int, input(\"Nhập hai số nguyên m, n để thực hiện phép chia tròn lên m cho n, hai số cách nhau bằng một dấu cách: \").split())\n",
    "quotient = m/n\n",
    "print(round(quotient))"
   ]
  },
  {
   "cell_type": "code",
   "execution_count": null,
   "id": "e600261e",
   "metadata": {},
   "outputs": [
    {
     "name": "stdout",
     "output_type": "stream",
     "text": [
      "Even\n"
     ]
    }
   ],
   "source": [
    "# H3.6 - \"Chẵn/Lẻ\"\n",
    "x = int(input(\"Nhập một số nguyên x: \"))\n",
    "if x % 2 == 0:\n",
    "    print(\"Even\")\n",
    "else:\n",
    "    print(\"Odd\")"
   ]
  },
  {
   "cell_type": "code",
   "execution_count": null,
   "id": "5a2af843",
   "metadata": {},
   "outputs": [
    {
     "name": "stdout",
     "output_type": "stream",
     "text": [
      "Yes\n"
     ]
    }
   ],
   "source": [
    "# H3.7 - \"Âm dương?\"\n",
    "a, b = map(int, input(\"Nhập hai số nguyên a, b: \").split())\n",
    "if a < 0 and b < 0:\n",
    "    print(\"Yes\")\n",
    "else:\n",
    "    print(\"No\")"
   ]
  },
  {
   "cell_type": "code",
   "execution_count": null,
   "id": "c1c5547b",
   "metadata": {},
   "outputs": [
    {
     "name": "stdout",
     "output_type": "stream",
     "text": [
      "True\n"
     ]
    }
   ],
   "source": [
    "# H3.8 - \"Chuỗi nào dài hơn?\"\n",
    "a, b = map(str, input(\"Nhập hai chuỗi kí tự, chuỗi này cách chuỗi kia một dấu cách : \").split())\n",
    "if len(a) > len(b):\n",
    "    print(\"True\")\n",
    "else:\n",
    "    print(\"False\")"
   ]
  },
  {
   "cell_type": "code",
   "execution_count": null,
   "id": "cf911842",
   "metadata": {},
   "outputs": [
    {
     "name": "stdout",
     "output_type": "stream",
     "text": [
      "Không phải tam giác\n"
     ]
    }
   ],
   "source": [
    "# H3.9 + H3.11 + H3.17 - \"Tam giác? Tam giác gì?\"\n",
    "bao_loi = \"Không phải tam giác\"\n",
    "a, b, c = map(int, input(\"Nhập ba số nguyên, hai số cách nhau 1 dấu cách:\").split())\n",
    "if a <= 0 or b <= 0 or c <= 0:\n",
    "    print(bao_loi)\n",
    "elif (a + b <= c) or (a + c <= b) or (b + c <= a):\n",
    "    if (a**2 + b**2 == c**2) or (a**2 + c**2 == b**2) or (b**2 + c**2 == a**2):\n",
    "        print(\"Tam giác thường\")\n",
    "    else:\n",
    "        print(bao_loi)\n",
    "elif (a == b == c):\n",
    "    print(\"Tam giác đều\")\n",
    "elif (a == b) or (b == c) or (a == c):\n",
    "    print(\"Tam giác cân\")\n",
    "else:\n",
    "    print(\"Tam giác thường\")\n"
   ]
  },
  {
   "cell_type": "code",
   "execution_count": null,
   "id": "8c01cb8a",
   "metadata": {},
   "outputs": [
    {
     "name": "stdout",
     "output_type": "stream",
     "text": [
      "1298419824\n"
     ]
    }
   ],
   "source": [
    "# H3.10 - \"Số nào lớn nhất?\"\n",
    "a, b, c, d = map(int, input(\"Nhập bốn số nguyên, hai số cách nhau một dấu cách: \").split())\n",
    "max = a\n",
    "if b > max:\n",
    "    max = b\n",
    "if c > max:\n",
    "    max = c\n",
    "if d > max:\n",
    "    max = d\n",
    "print(max)"
   ]
  },
  {
   "cell_type": "code",
   "execution_count": 5,
   "id": "cfc56301",
   "metadata": {},
   "outputs": [
    {
     "name": "stdout",
     "output_type": "stream",
     "text": [
      "Yes\n"
     ]
    }
   ],
   "source": [
    "# H3.12 - \"Năm nhuận\"\n",
    "year = int(input(\"Nhập số năm: \"))\n",
    "if year % 400 == 0 or (year % 4 == 0 and year % 100 != 0):\n",
    "    print(\"Yes\")\n",
    "else:\n",
    "    print(\"No\")"
   ]
  },
  {
   "cell_type": "code",
   "execution_count": 11,
   "id": "f7dd7684",
   "metadata": {},
   "outputs": [
    {
     "name": "stdout",
     "output_type": "stream",
     "text": [
      "175000\n"
     ]
    }
   ],
   "source": [
    "# H3.13 - \"Tính tiền điện\"\n",
    "tien_dien_bac_1 = 1500\n",
    "tien_dien_bac_2 = 2000\n",
    "tien_dien_bac_3 = 3000\n",
    "\n",
    "so_dien = int(input(\"Nhập số điện tiêu thụ: \"))\n",
    "if so_dien <= 50:\n",
    "    print(so_dien*tien_dien_bac_1)\n",
    "elif so_dien <= 100:\n",
    "    print(50*tien_dien_bac_1 + (so_dien-50)*tien_dien_bac_2)\n",
    "elif so_dien <= 150:\n",
    "    print(50*tien_dien_bac_1+50*tien_dien_bac_2+(so_dien-100)*tien_dien_bac_3)\n"
   ]
  },
  {
   "cell_type": "code",
   "execution_count": 16,
   "id": "55c47249",
   "metadata": {},
   "outputs": [
    {
     "name": "stdout",
     "output_type": "stream",
     "text": [
      "Phương trình đã cho có nghiệm là: x = -430.87\n"
     ]
    }
   ],
   "source": [
    "# H3.14 - \"Giải phương trình bậc nhất\"\n",
    "a, b = map(float, input(\"Nhập hai hệ số thực của phương trình ax + b = 0: \").split())\n",
    "if a == 0:\n",
    "    if b == 0:\n",
    "        print(\"Vô số nghiệm\")\n",
    "    else:\n",
    "        print(\"Vô nghiệm\")\n",
    "else:\n",
    "    print(\"Phương trình đã cho có nghiệm là: x =\", round(-b/a, 2))"
   ]
  },
  {
   "cell_type": "code",
   "execution_count": 21,
   "id": "91242f16",
   "metadata": {},
   "outputs": [
    {
     "name": "stdout",
     "output_type": "stream",
     "text": [
      "Giỏi\n"
     ]
    }
   ],
   "source": [
    "# H3.15 - \"Xếp loại học lực\"\n",
    "diem = float(input(\"Nhập điểm trung bình của học sinh: \"))\n",
    "if diem >= 8:\n",
    "    print(\"Giỏi\")\n",
    "elif diem >= 6.5:\n",
    "    print(\"Khá\")\n",
    "elif diem >= 5:\n",
    "    print(\"Trung bình\")\n",
    "else:\n",
    "    print(\"Yếu\")"
   ]
  },
  {
   "cell_type": "code",
   "execution_count": 52,
   "id": "552a4a36",
   "metadata": {},
   "outputs": [
    {
     "data": {
      "text/plain": [
       "(-7, -8, -7)"
      ]
     },
     "execution_count": 52,
     "metadata": {},
     "output_type": "execute_result"
    }
   ],
   "source": [
    "# H3.16 - \"Rounding\"\n",
    "def round_custom(float_1):\n",
    "    if float_1 - (float_1 // 1) == 0:\n",
    "        return float_1, float_1, float_1\n",
    "    else:\n",
    "        if float_1 > 0:\n",
    "            float_lower_bound = int(float_1 // 1)\n",
    "            if float_1 - float_lower_bound >= 0.5:\n",
    "                return float_lower_bound + 1, float_lower_bound, float_lower_bound + 1\n",
    "            else:\n",
    "                return float_lower_bound + 1, float_lower_bound, float_lower_bound\n",
    "        else:\n",
    "            float_1 = -float_1\n",
    "            float_lower_bound = int(float_1 // 1)\n",
    "            if float_1 - float_lower_bound >= 0.5:\n",
    "                return -(float_lower_bound), -(float_lower_bound + 1), -(float_lower_bound + 1)\n",
    "            else:\n",
    "                return -(float_lower_bound), -(float_lower_bound + 1), -float_lower_bound\n",
    "\n",
    "round_custom(float(input(\"Nhập số thực n:\")))\n",
    " "
   ]
  }
 ],
 "metadata": {
  "kernelspec": {
   "display_name": "Python 3",
   "language": "python",
   "name": "python3"
  },
  "language_info": {
   "codemirror_mode": {
    "name": "ipython",
    "version": 3
   },
   "file_extension": ".py",
   "mimetype": "text/x-python",
   "name": "python",
   "nbconvert_exporter": "python",
   "pygments_lexer": "ipython3",
   "version": "3.13.7"
  }
 },
 "nbformat": 4,
 "nbformat_minor": 5
}
