{
  "cells": [
    {
      "cell_type": "code",
      "execution_count": null,
      "id": "941d0fe8",
      "metadata": {
        "id": "941d0fe8"
      },
      "outputs": [],
      "source": [
        "Bài tập về nhà buổi 4"
      ]
    },
    {
      "cell_type": "code",
      "execution_count": null,
      "id": "7366fd9f",
      "metadata": {
        "id": "7366fd9f",
        "outputId": "12a6b8bb-fc0f-4df3-c17a-5ab737e2a8fc"
      },
      "outputs": [
        {
          "name": "stdout",
          "output_type": "stream",
          "text": [
            "1275\n"
          ]
        }
      ],
      "source": [
        "# W4A1\n",
        "n = int(input(\"Bạn muốn tính tổng các số từ 1 đến n. Hãy nhập số nguyên n:\"))\n",
        "sum = 0\n",
        "for integer in range(1, n+1):\n",
        "    sum = sum + integer\n",
        "\n",
        "print(sum)"
      ]
    },
    {
      "cell_type": "code",
      "execution_count": null,
      "id": "98d1fcbf",
      "metadata": {
        "id": "98d1fcbf",
        "outputId": "259ef477-99da-4c19-b32e-4cd136c1c681"
      },
      "outputs": [
        {
          "data": {
            "text/plain": [
              "False"
            ]
          },
          "execution_count": 39,
          "metadata": {},
          "output_type": "execute_result"
        }
      ],
      "source": [
        "# W4A2\n",
        "def isPrime(int):\n",
        "    if int == 0 or int == 1:\n",
        "        return False\n",
        "    else:\n",
        "        i = 2\n",
        "        while i**2 <= int:\n",
        "            if int % i == 0:\n",
        "                return False\n",
        "            else:\n",
        "                i += 1\n",
        "        return True\n",
        "\n",
        "\n",
        "n = int(input(\"Hãy nhập một số nguyên dương: \"))\n",
        "while n < 0:\n",
        "    n = int(input(\"Hãy nhập số nguyên dương!\"))\n",
        "isPrime(n)"
      ]
    },
    {
      "cell_type": "code",
      "execution_count": null,
      "id": "4e9f1432",
      "metadata": {
        "id": "4e9f1432",
        "outputId": "1fa0bc75-33a9-4891-a8be-a0134cf56b75"
      },
      "outputs": [
        {
          "name": "stdout",
          "output_type": "stream",
          "text": [
            "40320\n"
          ]
        }
      ],
      "source": [
        "# W4A3\n",
        "n = int(input(\"Hãy nhâp số nguyên n để tính n!: \"))\n",
        "product = 1\n",
        "for i in range(1, n+1):\n",
        "    product *= i\n",
        "print(product)"
      ]
    },
    {
      "cell_type": "code",
      "execution_count": 1,
      "id": "f89b5d84",
      "metadata": {
        "colab": {
          "base_uri": "https://localhost:8080/"
        },
        "id": "f89b5d84",
        "outputId": "afeb444c-7f56-40eb-be22-8c54bd5c7448"
      },
      "outputs": [
        {
          "output_type": "stream",
          "name": "stdout",
          "text": [
            "Nhập số nguyên n: -92249124\n",
            "8\n"
          ]
        }
      ],
      "source": [
        "# W4A4\n",
        "n = int(input(\"Nhập số nguyên n: \"))\n",
        "if n < 0:\n",
        "    n = -n\n",
        "count = 0\n",
        "if n == 0:\n",
        "    count = 1\n",
        "while 10**count <= n:\n",
        "    count += 1\n",
        "\n",
        "print(count)"
      ]
    },
    {
      "cell_type": "code",
      "execution_count": null,
      "id": "3c0a7767",
      "metadata": {
        "id": "3c0a7767",
        "outputId": "13f43f53-d3f4-464e-f431-d96315b21b27"
      },
      "outputs": [
        {
          "name": "stdout",
          "output_type": "stream",
          "text": [
            "Tôi đã tìm thấy nó, ý nghĩa cuộc sống!\n"
          ]
        }
      ],
      "source": [
        "# W4A5\n",
        "n = int(input(\"Hãy nhập số số nguyên bạn muốn nhập: \"))\n",
        "\n",
        "arr = list(map(int, input(\"Nhập dãy n số nguyên: \").split()))\n",
        "\n",
        "if 42 in arr:\n",
        "    print(\"Tôi đã tìm thấy nó, ý nghĩa cuộc sống!\")\n",
        "else:\n",
        "    print(\"Chỉ là trò hề!\")\n"
      ]
    },
    {
      "cell_type": "code",
      "execution_count": 3,
      "id": "af74dd82",
      "metadata": {
        "colab": {
          "base_uri": "https://localhost:8080/"
        },
        "id": "af74dd82",
        "outputId": "4921b7a9-dbab-4fa0-86f7-9b48992b5253"
      },
      "outputs": [
        {
          "output_type": "stream",
          "name": "stdout",
          "text": [
            "Nhập hai số nguyên dương a, b (a <= b): 10 20\n",
            "60\n",
            "Nhập hai số nguyên dương a, b (a <= b): 1 10\n",
            "17\n"
          ]
        }
      ],
      "source": [
        "# W4A6\n",
        "def isPrime(int):\n",
        "    if int == 0 or int == 1:\n",
        "        return False\n",
        "    else:\n",
        "        i = 2\n",
        "        while i**2 <= int:\n",
        "            if int % i == 0:\n",
        "                return False\n",
        "            else:\n",
        "                i += 1\n",
        "        return True\n",
        "\n",
        "a, b = map(int, input(\"Nhập hai số nguyên dương a, b (a <= b): \").split())\n",
        "sum = 0\n",
        "for i in range(a, b+1):\n",
        "    if isPrime(i):\n",
        "        sum += i\n",
        "print(sum)"
      ]
    },
    {
      "cell_type": "code",
      "execution_count": null,
      "id": "9eaef360",
      "metadata": {
        "id": "9eaef360",
        "outputId": "eb4ea574-49d4-446e-9094-60a7c49ed248"
      },
      "outputs": [
        {
          "name": "stdout",
          "output_type": "stream",
          "text": [
            "99991\n"
          ]
        }
      ],
      "source": [
        "def isPrime(int):\n",
        "    if int == 0 or int == 1:\n",
        "        return False\n",
        "    else:\n",
        "        i = 2\n",
        "        while i**2 <= int:\n",
        "            if int % i == 0:\n",
        "                return False\n",
        "            else:\n",
        "                i += 1\n",
        "        return True\n",
        "\n",
        "n = int(input(\"Nhập số nguyên dương n >= 2: \"))\n",
        "largestPrimeFactor = 1\n",
        "for i in range(1, n+1):\n",
        "    if n % i == 0:\n",
        "        if isPrime(i):\n",
        "            largestPrimeFactor = i\n",
        "\n",
        "print(largestPrimeFactor)"
      ]
    },
    {
      "cell_type": "code",
      "execution_count": 4,
      "id": "5102a29b",
      "metadata": {
        "colab": {
          "base_uri": "https://localhost:8080/"
        },
        "id": "5102a29b",
        "outputId": "1549b66e-3054-4fa0-8f54-b8f6ec24dc97"
      },
      "outputs": [
        {
          "output_type": "stream",
          "name": "stdout",
          "text": [
            "Nhập số nguyên dương n: 89\n",
            "24 8813200023188\n"
          ]
        }
      ],
      "source": [
        "# W4A8\n",
        "def reverse(integer):\n",
        "    arr = list(str(integer))\n",
        "    reverseNumber = ''\n",
        "    for i in range(1, len(arr) + 1):\n",
        "        reverseNumber += arr[-i]\n",
        "    return int(reverseNumber)\n",
        "\n",
        "n = int(input(\"Nhập số nguyên dương n: \"))\n",
        "count = 0\n",
        "while n != reverse(n): # nếu giống nhau thì là palindrome\n",
        "    n += reverse(n)\n",
        "    count += 1\n",
        "print(count, n)"
      ]
    },
    {
      "cell_type": "code",
      "execution_count": null,
      "id": "3688096e",
      "metadata": {
        "id": "3688096e",
        "outputId": "52ddb252-a124-441a-a5ae-504f333a7839"
      },
      "outputs": [
        {
          "name": "stdout",
          "output_type": "stream",
          "text": [
            "1 4 9 16 25 36 49 64 81 169 196 256 289 324 361 529 576 625 729 784 841 961 \n"
          ]
        }
      ],
      "source": [
        "# W4A9\n",
        "def isComposedofDiffChars(integer):\n",
        "    arr = list(str(integer))\n",
        "    for i in arr: # Khi đã tách ra các chữ số thì việc đếm các chữ số xuất hiện trong arr sẽ nhanh hơn là duyệt từ 0 đến 9.\n",
        "        if arr.count(i) > 1: # 2+ là có chữ số giống nhau rồi\n",
        "            return False\n",
        "    return True\n",
        "\n",
        "n = int(input(\"Nhập số nguyên dương n: \"))\n",
        "i = 1\n",
        "intList = ''\n",
        "while i**2 <= n:\n",
        "    if isComposedofDiffChars(i**2):\n",
        "        intList += str(i**2) + \" \" # yêu cầu output\n",
        "    i += 1\n",
        "print(intList)"
      ]
    },
    {
      "cell_type": "code",
      "execution_count": 15,
      "id": "7401f9ea",
      "metadata": {
        "colab": {
          "base_uri": "https://localhost:8080/"
        },
        "id": "7401f9ea",
        "outputId": "1de24fe8-527e-4844-e2d8-bd94a8ecdb32"
      },
      "outputs": [
        {
          "output_type": "stream",
          "name": "stdout",
          "text": [
            "Nhập số nguyên dương n: 10\n",
            "9 20\n"
          ]
        }
      ],
      "source": [
        "# W4A10\n",
        "def countCollatz(num):\n",
        "  count = 0\n",
        "  if num == 1:\n",
        "    return 0\n",
        "  while num != 1:\n",
        "    if num % 2 == 0:\n",
        "      num = num / 2\n",
        "      count += 1\n",
        "    else:\n",
        "      num = 3*num + 1\n",
        "      count += 1\n",
        "  return count + 1 # Giải pháp \"chắp vá\" vì chạy thử dãy Collatz với 9 ra 19 chứ không phải 20 !?\n",
        "\n",
        "n = int(input(\"Nhập số nguyên dương n: \"))\n",
        "maxCount = 0\n",
        "minNum = n\n",
        "for i in range(1, n+1):\n",
        "  if countCollatz(i) > maxCount:\n",
        "    maxCount = countCollatz(i)\n",
        "    if i < n:\n",
        "      minNum = i\n",
        "print(minNum, maxCount)"
      ]
    },
    {
      "cell_type": "code",
      "execution_count": null,
      "id": "08f745f2",
      "metadata": {
        "id": "08f745f2",
        "outputId": "6577788f-ef14-41a5-d350-70e4d7fcdd39"
      },
      "outputs": [
        {
          "name": "stdout",
          "output_type": "stream",
          "text": [
            "12\n"
          ]
        }
      ],
      "source": [
        "# W4A11\n",
        "n = int(input(\"Nhập số nguyên dương n: \"))\n",
        "count = 0\n",
        "i = 1\n",
        "while i < n:\n",
        "    if n % i == 0:\n",
        "        if i % 2 == 0:\n",
        "            count += 1\n",
        "    i += 1\n",
        "if n % 2 == 0:\n",
        "    print(count + 1)\n",
        "else:\n",
        "    print(count)"
      ]
    },
    {
      "cell_type": "code",
      "execution_count": null,
      "id": "46b96599",
      "metadata": {
        "id": "46b96599",
        "outputId": "fe17662c-f9cb-4338-9fe4-74b683430f00"
      },
      "outputs": [
        {
          "name": "stdout",
          "output_type": "stream",
          "text": [
            "10902\n"
          ]
        }
      ],
      "source": [
        "# W4A12\n",
        "import math\n",
        "interestRate = 0.7/100\n",
        "def interest(base, months):\n",
        "    if months == 0:\n",
        "        return base\n",
        "    else:\n",
        "        return interest(base, months - 1) * (1 + interestRate)\n",
        "\n",
        "base, months = map(int, input(\"Nhập số tiền gốc và thời gian bạn gửi lãi: \").split())\n",
        "print(math.trunc(interest(base, months)))"
      ]
    },
    {
      "cell_type": "code",
      "execution_count": null,
      "id": "7f55e12e",
      "metadata": {
        "id": "7f55e12e",
        "outputId": "8cd3e696-f91a-4514-d532-66d35ccf5be8"
      },
      "outputs": [
        {
          "name": "stdout",
          "output_type": "stream",
          "text": [
            "Thân\n"
          ]
        }
      ],
      "source": [
        "# W4A13\n",
        "def sumOfDivisors(int):\n",
        "    sum = 0\n",
        "    for i in range(1, int):\n",
        "        if int % i == 0:\n",
        "            sum += i\n",
        "    return sum\n",
        "\n",
        "m, n = map(int, input(\"Nhập hai số nguyên dương: \").split())\n",
        "if sumOfDivisors(m) == n and sumOfDivisors(n) == m:\n",
        "    print(\"Thân\")\n",
        "else:\n",
        "    print(\"Không đủ thân\")\n",
        "\n"
      ]
    },
    {
      "cell_type": "code",
      "execution_count": 20,
      "id": "b77ef054",
      "metadata": {
        "colab": {
          "base_uri": "https://localhost:8080/"
        },
        "id": "b77ef054",
        "outputId": "f12504a7-8274-4ccd-dad4-746d04e733c3"
      },
      "outputs": [
        {
          "output_type": "stream",
          "name": "stdout",
          "text": [
            "Nhập hai số tự nhiên a, b: 100024 1024\n",
            "8\n"
          ]
        }
      ],
      "source": [
        "# W4A14\n",
        "a, b = map(int, input(\"Nhập hai số tự nhiên a, b: \").split())\n",
        "while a != b:\n",
        "    if a > b:\n",
        "        a = a - b\n",
        "    else:\n",
        "        b = b - a\n",
        "print(a)"
      ]
    },
    {
      "cell_type": "code",
      "execution_count": null,
      "id": "6099f6e2",
      "metadata": {
        "id": "6099f6e2"
      },
      "outputs": [],
      "source": [
        "# W4A15\n",
        "chickenLeg = 2\n",
        "dogLeg = 4\n",
        "numAnimal, numLeg = map(int, input(\"Nhập tổng số con vật và số chân:\").split())\n",
        "dogNum = 0\n",
        "for dogNum in range(1, numAnimal + 1):\n",
        "\n",
        "\n",
        "chickenNum = 36 - dogNum"
      ]
    },
    {
      "cell_type": "code",
      "execution_count": null,
      "id": "53b51794",
      "metadata": {
        "id": "53b51794",
        "outputId": "9454d9f7-288e-4635-ccab-bff86e2c7385"
      },
      "outputs": [
        {
          "name": "stdout",
          "output_type": "stream",
          "text": [
            "3\n",
            "6\n",
            "9\n",
            "12\n",
            "15\n",
            "18\n",
            "21\n",
            "24\n",
            "27\n",
            "30\n",
            "33\n",
            "36\n",
            "39\n",
            "42\n",
            "45\n",
            "48\n",
            "51\n",
            "54\n",
            "57\n",
            "60\n",
            "63\n",
            "66\n",
            "69\n",
            "72\n",
            "75\n",
            "78\n",
            "81\n",
            "84\n",
            "87\n",
            "90\n",
            "93\n",
            "96\n",
            "99\n"
          ]
        }
      ],
      "source": [
        "# W4A16\n",
        "\n",
        "for i in range(1, 100):\n",
        "    if i % 3 == 0:\n",
        "        print(i)"
      ]
    },
    {
      "cell_type": "code",
      "execution_count": 19,
      "id": "fe95ce43",
      "metadata": {
        "colab": {
          "base_uri": "https://localhost:8080/"
        },
        "id": "fe95ce43",
        "outputId": "7297c455-2584-4d1c-8ba2-9b2041a377ed"
      },
      "outputs": [
        {
          "output_type": "stream",
          "name": "stdout",
          "text": [
            "Nhập số nguyên dương n: 10\n",
            "10 x 1 = 10\n",
            "10 x 2 = 20\n",
            "10 x 3 = 30\n",
            "10 x 4 = 40\n",
            "10 x 5 = 50\n",
            "10 x 6 = 60\n",
            "10 x 7 = 70\n",
            "10 x 8 = 80\n",
            "10 x 9 = 90\n",
            "10 x 10 = 100\n"
          ]
        }
      ],
      "source": [
        "# W4A17\n",
        "def bangCuuChuong(num):\n",
        "  for i in range(1, 11):\n",
        "    print(num, \"x\", i, \"=\", num*i)\n",
        "n = int(input(\"Nhập số nguyên dương n: \"))\n",
        "bangCuuChuong(n)"
      ]
    },
    {
      "cell_type": "code",
      "source": [
        "# W4A18\n",
        "def gcd(a, b):\n",
        "  while a != b:\n",
        "    if a > b:\n",
        "        a = a - b\n",
        "    else:\n",
        "        b = b - a\n",
        "  return a\n",
        "\n",
        "m, n = map(int, input(\"Nhập hai số nguyên a, b: \").split())\n",
        "gcd = gcd(m, n)\n",
        "strGc = \"\"\n",
        "for i in range(1, gcd + 1):\n",
        "  if gcd % i == 0:\n",
        "    strGc += str(i) + \" \"\n",
        "print(strGc)"
      ],
      "metadata": {
        "colab": {
          "base_uri": "https://localhost:8080/"
        },
        "id": "scFI5mDmiGyq",
        "outputId": "acd06178-519b-46ce-c3b5-65f0c8a29afb"
      },
      "id": "scFI5mDmiGyq",
      "execution_count": 26,
      "outputs": [
        {
          "output_type": "stream",
          "name": "stdout",
          "text": [
            "Nhập hai số nguyên a, b: 9 27\n",
            "1 3 9 \n"
          ]
        }
      ]
    },
    {
      "cell_type": "code",
      "source": [],
      "metadata": {
        "id": "EPW2lGaflf1U"
      },
      "id": "EPW2lGaflf1U",
      "execution_count": null,
      "outputs": []
    }
  ],
  "metadata": {
    "kernelspec": {
      "display_name": "Python 3",
      "language": "python",
      "name": "python3"
    },
    "language_info": {
      "codemirror_mode": {
        "name": "ipython",
        "version": 3
      },
      "file_extension": ".py",
      "mimetype": "text/x-python",
      "name": "python",
      "nbconvert_exporter": "python",
      "pygments_lexer": "ipython3",
      "version": "3.13.8"
    },
    "colab": {
      "provenance": []
    }
  },
  "nbformat": 4,
  "nbformat_minor": 5
}