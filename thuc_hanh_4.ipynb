{
 "cells": [
  {
   "cell_type": "code",
   "execution_count": null,
   "id": "941d0fe8",
   "metadata": {},
   "outputs": [],
   "source": [
    "Bài tập về nhà buổi 4"
   ]
  },
  {
   "cell_type": "code",
   "execution_count": 5,
   "id": "7366fd9f",
   "metadata": {},
   "outputs": [
    {
     "name": "stdout",
     "output_type": "stream",
     "text": [
      "1275\n"
     ]
    }
   ],
   "source": [
    "# W4A1\n",
    "n = int(input(\"Bạn muốn tính tổng các số từ 1 đến n. Hãy nhập số nguyên n:\"))\n",
    "sum = 0\n",
    "for integer in range(1, n+1):\n",
    "    sum = sum + integer\n",
    "\n",
    "print(sum)"
   ]
  },
  {
   "cell_type": "code",
   "execution_count": 39,
   "id": "98d1fcbf",
   "metadata": {},
   "outputs": [
    {
     "data": {
      "text/plain": [
       "False"
      ]
     },
     "execution_count": 39,
     "metadata": {},
     "output_type": "execute_result"
    }
   ],
   "source": [
    "# W4A2\n",
    "def isPrime(int):\n",
    "    if int == 0 or int == 1:\n",
    "        return False\n",
    "    else:\n",
    "        i = 2\n",
    "        while i**2 <= int:\n",
    "            if int % i == 0:\n",
    "                return False\n",
    "            else:\n",
    "                i += 1\n",
    "        return True\n",
    "\n",
    "\n",
    "n = int(input(\"Hãy nhập một số nguyên dương: \"))  \n",
    "while n < 0:\n",
    "    n = int(input(\"Hãy nhập số nguyên dương!\"))  \n",
    "isPrime(n)      "
   ]
  },
  {
   "cell_type": "code",
   "execution_count": 46,
   "id": "4e9f1432",
   "metadata": {},
   "outputs": [
    {
     "name": "stdout",
     "output_type": "stream",
     "text": [
      "40320\n"
     ]
    }
   ],
   "source": [
    "# W4A3\n",
    "n = int(input(\"Hãy nhâp số nguyên n để tính n!: \"))\n",
    "product = 1\n",
    "for i in range(1, n+1):\n",
    "    product *= i\n",
    "print(product)"
   ]
  },
  {
   "cell_type": "code",
   "execution_count": 116,
   "id": "f89b5d84",
   "metadata": {},
   "outputs": [
    {
     "name": "stdout",
     "output_type": "stream",
     "text": [
      "1\n"
     ]
    }
   ],
   "source": [
    "# W4A4\n",
    "n = int(input(\"Nhập số nguyên n: \"))\n",
    "if n < 0:\n",
    "    n = -n\n",
    "count = 0\n",
    "if n == 0:\n",
    "    count = 1\n",
    "while 10**count <= n:\n",
    "    count += 1\n",
    "\n",
    "print(count)"
   ]
  },
  {
   "cell_type": "code",
   "execution_count": 67,
   "id": "3c0a7767",
   "metadata": {},
   "outputs": [
    {
     "name": "stdout",
     "output_type": "stream",
     "text": [
      "Tôi đã tìm thấy nó, ý nghĩa cuộc sống!\n"
     ]
    }
   ],
   "source": [
    "# W4A5\n",
    "n = int(input(\"Hãy nhập số số nguyên bạn muốn nhập: \"))\n",
    "\n",
    "arr = list(map(int, input(\"Nhập dãy n số nguyên: \").split()))\n",
    "\n",
    "if 42 in arr:\n",
    "    print(\"Tôi đã tìm thấy nó, ý nghĩa cuộc sống!\")\n",
    "else:\n",
    "    print(\"Chỉ là trò hề!\")\n"
   ]
  },
  {
   "cell_type": "code",
   "execution_count": 72,
   "id": "af74dd82",
   "metadata": {},
   "outputs": [
    {
     "name": "stdout",
     "output_type": "stream",
     "text": [
      "533\n"
     ]
    }
   ],
   "source": [
    "# W4A6\n",
    "def isPrime(int):\n",
    "    if int == 0 or int == 1:\n",
    "        return False\n",
    "    else:\n",
    "        i = 2\n",
    "        while i**2 <= int:\n",
    "            if int % i == 0:\n",
    "                return False\n",
    "            else:\n",
    "                i += 1\n",
    "        return True\n",
    "\n",
    "a, b = map(int, input(\"Nhập hai số nguyên dương a, b (a <= b): \").split())\n",
    "sum = 0\n",
    "for i in range(a, b+1):\n",
    "    if isPrime(i):\n",
    "        sum += i\n",
    "print(sum)"
   ]
  },
  {
   "cell_type": "code",
   "execution_count": 78,
   "id": "9eaef360",
   "metadata": {},
   "outputs": [
    {
     "name": "stdout",
     "output_type": "stream",
     "text": [
      "99991\n"
     ]
    }
   ],
   "source": [
    "def isPrime(int):\n",
    "    if int == 0 or int == 1:\n",
    "        return False\n",
    "    else:\n",
    "        i = 2\n",
    "        while i**2 <= int:\n",
    "            if int % i == 0:\n",
    "                return False\n",
    "            else:\n",
    "                i += 1\n",
    "        return True\n",
    "    \n",
    "n = int(input(\"Nhập số nguyên dương n >= 2: \"))\n",
    "largestPrimeFactor = 1\n",
    "for i in range(1, n+1):\n",
    "    if n % i == 0:\n",
    "        if isPrime(i):\n",
    "            largestPrimeFactor = i\n",
    "\n",
    "print(largestPrimeFactor)"
   ]
  },
  {
   "cell_type": "code",
   "execution_count": null,
   "id": "5102a29b",
   "metadata": {},
   "outputs": [
    {
     "name": "stdout",
     "output_type": "stream",
     "text": [
      "4 9339\n"
     ]
    }
   ],
   "source": [
    "# W4A8\n",
    "def reverse(integer):\n",
    "    arr = list(str(integer))\n",
    "    reverseNumber = ''\n",
    "    for i in range(1, len(arr) + 1):\n",
    "        reverseNumber += arr[-i]\n",
    "    return int(reverseNumber)    \n",
    "\n",
    "n = int(input(\"Nhập số nguyên dương n: \"))\n",
    "count = 0\n",
    "while n != reverse(n): # nếu giống nhau thì là palindrome\n",
    "    n += reverse(n)\n",
    "    count += 1\n",
    "print(count, n)"
   ]
  },
  {
   "cell_type": "code",
   "execution_count": null,
   "id": "3688096e",
   "metadata": {},
   "outputs": [
    {
     "name": "stdout",
     "output_type": "stream",
     "text": [
      "1 4 9 16 25 36 49 64 81 169 196 256 289 324 361 529 576 625 729 784 841 961 \n"
     ]
    }
   ],
   "source": [
    "# W4A9\n",
    "def isComposedofDiffChars(integer):\n",
    "    arr = list(str(integer))\n",
    "    for i in arr: # Khi đã tách ra các chữ số thì việc đếm các chữ số xuất hiện trong arr sẽ nhanh hơn là duyệt từ 0 đến 9.\n",
    "        if arr.count(i) > 1: # 2+ là có chữ số giống nhau rồi\n",
    "            return False\n",
    "    return True\n",
    "\n",
    "n = int(input(\"Nhập số nguyên dương n: \"))\n",
    "i = 1\n",
    "intList = ''\n",
    "while i**2 <= n:\n",
    "    if isComposedofDiffChars(i**2):    \n",
    "        intList += str(i**2) + \" \" # yêu cầu output\n",
    "    i += 1\n",
    "print(intList)"
   ]
  },
  {
   "cell_type": "code",
   "execution_count": null,
   "id": "7401f9ea",
   "metadata": {},
   "outputs": [],
   "source": [
    "# W4A10\n"
   ]
  },
  {
   "cell_type": "code",
   "execution_count": 126,
   "id": "08f745f2",
   "metadata": {},
   "outputs": [
    {
     "name": "stdout",
     "output_type": "stream",
     "text": [
      "12\n"
     ]
    }
   ],
   "source": [
    "# W4A11\n",
    "n = int(input(\"Nhập số nguyên dương n: \"))\n",
    "count = 0\n",
    "i = 1\n",
    "while i < n:\n",
    "    if n % i == 0:\n",
    "        if i % 2 == 0:\n",
    "            count += 1\n",
    "    i += 1\n",
    "if n % 2 == 0:\n",
    "    print(count + 1)\n",
    "else:\n",
    "    print(count)"
   ]
  },
  {
   "cell_type": "code",
   "execution_count": 137,
   "id": "46b96599",
   "metadata": {},
   "outputs": [
    {
     "name": "stdout",
     "output_type": "stream",
     "text": [
      "10902\n"
     ]
    }
   ],
   "source": [
    "# W4A12\n",
    "import math\n",
    "interestRate = 0.7/100 \n",
    "def interest(base, months):\n",
    "    if months == 0:\n",
    "        return base\n",
    "    else:\n",
    "        return interest(base, months - 1) * (1 + interestRate)\n",
    "\n",
    "base, months = map(int, input(\"Nhập số tiền gốc và thời gian bạn gửi lãi: \").split())\n",
    "print(math.trunc(interest(base, months)))"
   ]
  },
  {
   "cell_type": "code",
   "execution_count": 148,
   "id": "7f55e12e",
   "metadata": {},
   "outputs": [
    {
     "name": "stdout",
     "output_type": "stream",
     "text": [
      "Thân\n"
     ]
    }
   ],
   "source": [
    "# W4A13\n",
    "def sumOfDivisors(int):\n",
    "    sum = 0\n",
    "    for i in range(1, int):\n",
    "        if int % i == 0:\n",
    "            sum += i\n",
    "    return sum\n",
    "\n",
    "m, n = map(int, input(\"Nhập hai số nguyên dương: \").split())\n",
    "if sumOfDivisors(m) == n and sumOfDivisors(n) == m:\n",
    "    print(\"Thân\")\n",
    "else:\n",
    "    print(\"Không đủ thân\")\n",
    "\n"
   ]
  },
  {
   "cell_type": "code",
   "execution_count": 6,
   "id": "b77ef054",
   "metadata": {},
   "outputs": [
    {
     "name": "stdout",
     "output_type": "stream",
     "text": [
      "333\n"
     ]
    }
   ],
   "source": [
    "# W4A14\n",
    "a, b = map(int, input(\"Nhập hai số tự nhiên a, b: \").split())\n",
    "while a != b:\n",
    "    if a > b:\n",
    "        a = a - b\n",
    "    else:\n",
    "        b = b - a\n",
    "print(a)"
   ]
  },
  {
   "cell_type": "code",
   "execution_count": null,
   "id": "6099f6e2",
   "metadata": {},
   "outputs": [],
   "source": [
    "# W4A15\n",
    "chickenLeg = 2\n",
    "dogLeg = 4\n",
    "numAnimal, numLeg = map(int, input(\"Nhập tổng số con vật và số chân:\").split())\n",
    "dogNum = 0\n",
    "for dogNum in range(1, numAnimal + 1):\n",
    "    \n",
    "\n",
    "chickenNum = 36 - dogNum\n"
   ]
  },
  {
   "cell_type": "code",
   "execution_count": 11,
   "id": "53b51794",
   "metadata": {},
   "outputs": [
    {
     "name": "stdout",
     "output_type": "stream",
     "text": [
      "3\n",
      "6\n",
      "9\n",
      "12\n",
      "15\n",
      "18\n",
      "21\n",
      "24\n",
      "27\n",
      "30\n",
      "33\n",
      "36\n",
      "39\n",
      "42\n",
      "45\n",
      "48\n",
      "51\n",
      "54\n",
      "57\n",
      "60\n",
      "63\n",
      "66\n",
      "69\n",
      "72\n",
      "75\n",
      "78\n",
      "81\n",
      "84\n",
      "87\n",
      "90\n",
      "93\n",
      "96\n",
      "99\n"
     ]
    }
   ],
   "source": [
    "# W4A16\n",
    "\n",
    "for i in range(1, 100):\n",
    "    if i % 3 == 0:\n",
    "        print(i)"
   ]
  },
  {
   "cell_type": "code",
   "execution_count": null,
   "id": "fe95ce43",
   "metadata": {},
   "outputs": [],
   "source": [
    "# W4A17\n"
   ]
  }
 ],
 "metadata": {
  "kernelspec": {
   "display_name": "Python 3",
   "language": "python",
   "name": "python3"
  },
  "language_info": {
   "codemirror_mode": {
    "name": "ipython",
    "version": 3
   },
   "file_extension": ".py",
   "mimetype": "text/x-python",
   "name": "python",
   "nbconvert_exporter": "python",
   "pygments_lexer": "ipython3",
   "version": "3.13.8"
  }
 },
 "nbformat": 4,
 "nbformat_minor": 5
}
